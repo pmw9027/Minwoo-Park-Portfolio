{
 "cells": [
  {
   "cell_type": "code",
   "execution_count": 2,
   "metadata": {},
   "outputs": [],
   "source": [
    "import numpy as np\n",
    "import torch.nn as nn\n",
    "import matplotlib.pyplot as plt\n"
   ]
  },
  {
   "cell_type": "code",
   "execution_count": 3,
   "metadata": {},
   "outputs": [],
   "source": [
    "class ClassifierFNN(nn.Module): \n",
    "    def __init__(self, input_size, hidden_size, output_size) -> None:\n",
    "        super().__init__()\n",
    "        # self.class_num = class_num\n",
    "        \n",
    "        self.input_size = input_size\n",
    "        self.hidden_size = hidden_size\n",
    "        self.output_size = output_size\n",
    "        \n",
    "        self.network1 = nn.Sequential(\n",
    "            nn.Linear(self.input_size, self.hidden_size),\n",
    "            nn.Sigmoid(),\n",
    "            nn.Linear(self.hidden_size, self.output_size),\n",
    "            nn.Softmax()\n",
    "        )\n",
    "      \n",
    "    def forward(self, x):\n",
    "        return self.network1\n",
    "        \n",
    "\n",
    "        "
   ]
  },
  {
   "cell_type": "code",
   "execution_count": 4,
   "metadata": {},
   "outputs": [],
   "source": [
    "class ClassifierCNN(nn.Module):\n",
    "    def __init__(self, class_num) -> None:\n",
    "        super().__init__()\n",
    "        self.class_num = class_num\n",
    "        \n",
    "        self.conv_net = nn.Sequential(\n",
    "            nn.Conv2d(in_channels=1, out_channels=10, kernel_size=5),\n",
    "            nn.BatchNorm2d(10),\n",
    "            nn.ReLU(),\n",
    "            nn.MaxPool2d(2),\n",
    "            \n",
    "            nn.Conv2d(in_channels=10, out_channels=20, kernel_size=5),\n",
    "            nn.BatchNorm2d(20),\n",
    "            nn.ReLU(),\n",
    "            nn.MaxPool2d(2),\n",
    "        )\n",
    "        \n",
    "        self.fc_net = nn.Sequential(\n",
    "            nn.Linear(320, 50),\n",
    "            nn.BatchNorm1d(50),\n",
    "            nn.ReLU(),\n",
    "            nn.Linear(50, self.class_num),\n",
    "            nn.Softmax()\n",
    "        )\n",
    "    \n",
    "    def forward(self, x):\n",
    "        \n",
    "        return self.fc_net(self.conv_net(x).view(-1, 320)) \n",
    "        \n",
    "        "
   ]
  },
  {
   "cell_type": "code",
   "execution_count": 20,
   "metadata": {},
   "outputs": [
    {
     "name": "stdout",
     "output_type": "stream",
     "text": [
      "FC' net's parameters\n\ntorch.Size([50, 784])\ntorch.Size([50])\ntorch.Size([10, 50])\ntorch.Size([10])\n39760\nCNN' net's parameters\n\ntorch.Size([10, 1, 5, 5])\ntorch.Size([10])\ntorch.Size([10])\ntorch.Size([10])\ntorch.Size([20, 10, 5, 5])\ntorch.Size([20])\ntorch.Size([20])\ntorch.Size([20])\ntorch.Size([50, 320])\ntorch.Size([50])\ntorch.Size([50])\ntorch.Size([50])\ntorch.Size([10, 50])\ntorch.Size([10])\n22000\n"
     ]
    }
   ],
   "source": [
    "fc_net = ClassifierFNN(input_size=784, hidden_size=50, output_size=10)\n",
    "cnv_net = ClassifierCNN(class_num=10)\n",
    "\n",
    "\n",
    "print(\"FC' net's parameters\\n\")\n",
    "nums = 0\n",
    "for param in fc_net.parameters():\n",
    "    print(param.shape)\n",
    "    nums += np.asanyarray(param.shape).prod()\n",
    "print(nums)\n",
    "    \n",
    "print(\"CNN' net's parameters\\n\")\n",
    "nums = 0\n",
    "for param in cnv_net.parameters():\n",
    "    print(param.shape)\n",
    "    nums += np.asanyarray(param.shape).prod()\n",
    "print(nums)\n"
   ]
  }
 ],
 "metadata": {
  "kernelspec": {
   "display_name": "Python 2",
   "language": "python",
   "name": "python2"
  },
  "language_info": {
   "codemirror_mode": {
    "name": "ipython",
    "version": 2
   },
   "file_extension": ".py",
   "mimetype": "text/x-python",
   "name": "python",
   "nbconvert_exporter": "python",
   "pygments_lexer": "ipython2",
   "version": "2.7.6"
  }
 },
 "nbformat": 4,
 "nbformat_minor": 0
}
