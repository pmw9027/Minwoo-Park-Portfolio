{
 "cells": [
  {
   "cell_type": "code",
   "execution_count": 5,
   "metadata": {},
   "outputs": [],
   "source": [
    "import numpy as np"
   ]
  },
  {
   "cell_type": "code",
   "execution_count": 6,
   "metadata": {},
   "outputs": [],
   "source": [
    "def im2col(input_data: np.array, filter_h, filter_w, stride=1, pad=0):\n",
    "    N, C, H, W = input_data.shape\n",
    "    \n",
    "    out_h = (H + 2 * pad - filter_h) // stride + 1\n",
    "    out_w = (W + 2 * pad - filter_w) // stride + 1\n",
    "    \n",
    "    img = np.pad(input_data, [(0, 0), (0, 0), (pad, pad), (pad, pad)], 'constant')\n",
    "    \n",
    "    col = np.zeros((N, C, filter_h, filter_w, out_h, out_w))\n",
    "    \n",
    "    for y in range(filter_h):\n",
    "        y_max = y + stride * out_h\n",
    "        for x in range(filter_w):\n",
    "            x_max = x + stride * out_w\n",
    "            col[:, :, y, x, :, :] = img[:, :, y:y_max:stride, x:x_max:stride]\n",
    "            \n",
    "    col = col.transpose(0, 4, 5, 1, 2, 3).reshape(N * out_h * out_w, -1)\n",
    "    \n",
    "    return col\n",
    "            \n"
   ]
  },
  {
   "cell_type": "code",
   "execution_count": 7,
   "metadata": {},
   "outputs": [],
   "source": [
    "class Convolution(object):\n",
    "    def __init__(self, W, b, stride=1, pad=0):\n",
    "        self.W = W\n",
    "        self.b = b\n",
    "        self.stride = stride\n",
    "        self.pad = pad\n",
    "        \n",
    "        self.x = None\n",
    "        self.col = None\n",
    "        self.col_W = None\n",
    "        \n",
    "        self.dW = None\n",
    "        self.db = None\n",
    "        \n",
    "    def forward(self, x):\n",
    "        \n",
    "        FN, C, FH, FW = self.W.shape\n",
    "        N, C, H, W = x.shape\n",
    "        \n",
    "        out_h = 1 + int((H + 2 * self.pad - FH) / self.stride)\n",
    "        out_w = 1 + int((W + 2 * self.pad - FW) / self.stride)\n",
    "        \n",
    "        col = im2col(x, FH, FW, self.stride, self.pad)\n",
    "        \n",
    "        print(\"input data -> im2col is \", col)\n",
    "        \n",
    "        col_W = self.W.reshape(FN, -1).T\n",
    "        print(\"Weight = filter ... -> im2col is \\n\", col_W, end='\\n')\n",
    "        \n",
    "        out = np.dot(col, col_W) + self.b\n",
    "        print(\"affine 연상 수행 결과 \\n\", out, end='\\n')\n",
    "        \n",
    "        out = out.reshape(N, out_h, out_w, -1).transpose(0, 3, 1, 2)\n",
    "        \n",
    "        self.x = x\n",
    "        self.col = col\n",
    "        self.col_W = col_W\n",
    "        \n",
    "        return out"
   ]
  },
  {
   "cell_type": "code",
   "execution_count": 9,
   "metadata": {},
   "outputs": [
    {
     "name": "stdout",
     "output_type": "stream",
     "text": [
      "input data is \n [[[[0 0 0 0 0]\n   [0 1 2 3 0]\n   [0 4 5 6 0]\n   [0 7 8 9 0]\n   [0 0 0 0 0]]]]\nweight = filter = kernel = mask is\n [[[[0 0 0]\n   [0 1 0]\n   [1 0 0]]]]\ninput data -> im2col is  [[0. 0. 0. 0. 1. 2. 0. 4. 5.]\n [0. 0. 0. 1. 2. 3. 4. 5. 6.]\n [0. 0. 0. 2. 3. 0. 5. 6. 0.]\n [0. 1. 2. 0. 4. 5. 0. 7. 8.]\n [1. 2. 3. 4. 5. 6. 7. 8. 9.]\n [2. 3. 0. 5. 6. 0. 8. 9. 0.]\n [0. 4. 5. 0. 7. 8. 0. 0. 0.]\n [4. 5. 6. 7. 8. 9. 0. 0. 0.]\n [5. 6. 0. 8. 9. 0. 0. 0. 0.]]\nWeight = filter ... -> im2col is \n [[0]\n [0]\n [0]\n [0]\n [1]\n [0]\n [1]\n [0]\n [0]]\naffine 연상 수행 결과 \n [[ 1.]\n [ 6.]\n [ 8.]\n [ 4.]\n [12.]\n [14.]\n [ 7.]\n [ 8.]\n [ 9.]]\nResult of Convolution  [[[[ 1.  6.  8.]\n   [ 4. 12. 14.]\n   [ 7.  8.  9.]]]]\n"
     ]
    }
   ],
   "source": [
    "filter_num = 1\n",
    "input_channels = 1\n",
    "\n",
    "x1 = np.array(\n",
    "    [\n",
    "        [0, 0, 0, 0, 0],\n",
    "        [0, 1, 2, 3, 0],\n",
    "        [0, 4, 5, 6, 0],\n",
    "        [0, 7, 8, 9, 0],\n",
    "        [0, 0, 0, 0, 0],\n",
    "    ]\n",
    ").reshape(1, input_channels, 5, 5)\n",
    "print(\"input data is \\n\", x1, end='\\n')\n",
    "\n",
    "W1 = np.array([\n",
    "    [0, 0, 0],\n",
    "    [0, 1, 0],\n",
    "    [1, 0, 0],\n",
    "]).reshape([filter_num, input_channels, 3, 3])\n",
    "b1 = np.zeros(filter_num)\n",
    "\n",
    "print(\"weight = filter = kernel = mask is\\n\", W1, end='\\n')\n",
    "\n",
    "conv1 = Convolution(W1, b1)\n",
    "y = conv1.forward(x1)\n",
    "\n",
    "print(\"Result of Convolution \", y)\n",
    "\n"
   ]
  },
  {
   "cell_type": "code",
   "execution_count": null,
   "metadata": {},
   "outputs": [],
   "source": []
  }
 ],
 "metadata": {
  "kernelspec": {
   "display_name": "Python 2",
   "language": "python",
   "name": "python2"
  },
  "language_info": {
   "codemirror_mode": {
    "name": "ipython",
    "version": 2
   },
   "file_extension": ".py",
   "mimetype": "text/x-python",
   "name": "python",
   "nbconvert_exporter": "python",
   "pygments_lexer": "ipython2",
   "version": "2.7.6"
  }
 },
 "nbformat": 4,
 "nbformat_minor": 0
}
