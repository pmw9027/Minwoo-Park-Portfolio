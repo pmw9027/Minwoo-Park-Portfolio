{
 "cells": [
  {
   "cell_type": "markdown",
   "metadata": {
    "collapsed": true
   },
   "source": [
    "## Purpose : Backpropagation using numpy module"
   ]
  },
  {
   "cell_type": "code",
   "execution_count": 37,
   "metadata": {},
   "outputs": [],
   "source": [
    "import numpy as np\n",
    "import matplotlib.pyplot as plt\n"
   ]
  },
  {
   "cell_type": "markdown",
   "metadata": {},
   "source": [
    "### Sigmoid function"
   ]
  },
  {
   "cell_type": "code",
   "execution_count": 38,
   "metadata": {},
   "outputs": [],
   "source": [
    "def sigmoid_function(x):\n",
    "    return 1 / (1 + np.exp(-x))\n",
    "\n",
    "def sigmoid_derivative(x):\n",
    "    return x * (1 - x)\n"
   ]
  },
  {
   "cell_type": "markdown",
   "metadata": {},
   "source": [
    "### Hyper Parameter"
   ]
  },
  {
   "cell_type": "code",
   "execution_count": 39,
   "metadata": {},
   "outputs": [],
   "source": [
    "epochs = 20000\n",
    "learning_rate = 0.01\n",
    "\n",
    "hidden_layer_size = 3\n"
   ]
  },
  {
   "cell_type": "code",
   "execution_count": 40,
   "metadata": {},
   "outputs": [
    {
     "name": "stdout",
     "output_type": "stream",
     "text": [
      "[[0.11808173 0.13391696 0.90191699]\n [0.15533031 0.66122366 0.26550327]]\n\n[[0.71287649]\n [0.36797203]\n [0.16909786]]\n\n"
     ]
    }
   ],
   "source": [
    "X = np.array([[0, 0], [0, 1], [1, 0], [1, 1]])\n",
    "\n",
    "Y = np.array([[0], [1], [1], [0]])\n",
    "\n",
    "W_layer_1 = np.random.uniform(size=(X.shape[1], hidden_layer_size))\n",
    "W_layer_2 = np.random.uniform(size=(hidden_layer_size, Y.shape[1]))\n",
    "\n",
    "print(W_layer_1, end='\\n\\n')\n",
    "\n",
    "print(W_layer_2, end='\\n\\n')\n"
   ]
  },
  {
   "cell_type": "code",
   "execution_count": 42,
   "metadata": {},
   "outputs": [
    {
     "name": "stdout",
     "output_type": "stream",
     "text": [
      "0.500060222639066\n"
     ]
    },
    {
     "name": "stdout",
     "output_type": "stream",
     "text": [
      "0.5000523923619509\n"
     ]
    },
    {
     "name": "stdout",
     "output_type": "stream",
     "text": [
      "0.5000450174255914\n"
     ]
    },
    {
     "name": "stdout",
     "output_type": "stream",
     "text": [
      "0.5000380398004334\n0.5000314086075863\n"
     ]
    },
    {
     "name": "stdout",
     "output_type": "stream",
     "text": [
      "0.5000250790521371\n0.5000190115331888\n0.5000131708980668\n"
     ]
    },
    {
     "name": "stdout",
     "output_type": "stream",
     "text": [
      "0.5000075258145726\n0.5000020482402334\n0.4999967129715033\n"
     ]
    },
    {
     "name": "stdout",
     "output_type": "stream",
     "text": [
      "0.4999914972590611\n0.4999863804778855\n0.4999813438428318\n"
     ]
    },
    {
     "name": "stdout",
     "output_type": "stream",
     "text": [
      "0.49997637016206353\n0.4999714436220175\n"
     ]
    },
    {
     "name": "stdout",
     "output_type": "stream",
     "text": [
      "0.49996654959865416\n0.4999616744906057\n0.4999568055705517\n"
     ]
    },
    {
     "name": "stdout",
     "output_type": "stream",
     "text": [
      "0.49995193085172474\n"
     ]
    }
   ],
   "source": [
    "error_list = []\n",
    "for i in range(epochs):\n",
    "    layer_1_output = sigmoid_function(np.dot(X, W_layer_1))\n",
    "    layer_2_output = sigmoid_function(np.dot(layer_1_output, W_layer_2))\n",
    "    \n",
    "    E = 1 / 2 * np.square(Y - layer_2_output).sum()\n",
    "    error_list.append(E)\n",
    "    \n",
    "    layer_2_W_grad = (Y - layer_2_output) * sigmoid_derivative(layer_2_output) \n",
    "    layer_1_W_grad = layer_2_W_grad.dot(W_layer_2.T) * sigmoid_derivative(layer_1_output) \n",
    "    \n",
    "    W_layer_2 += learning_rate * np.dot(layer_1_output.T, layer_2_W_grad)\n",
    "    W_layer_1 += learning_rate * np.dot(X.T, layer_1_W_grad)\n",
    "    \n",
    "    if i % 1000 == 0:\n",
    "        print(E)\n"
   ]
  },
  {
   "cell_type": "code",
   "execution_count": 44,
   "metadata": {},
   "outputs": [
    {
     "data": {
      "text/plain": [
       "[<matplotlib.lines.Line2D at 0x7f4510495a90>]"
      ]
     },
     "execution_count": 44,
     "metadata": {},
     "output_type": "execute_result"
    },
    {
     "data": {
      "image/png": "[encoded data removed]",
      "text/plain": [
       "<Figure size 432x288 with 1 Axes>"
      ]
     },
     "metadata": {},
     "output_type": "display_data"
    }
   ],
   "source": [
    "plt.plot(error_list)"
   ]
  },
  {
   "cell_type": "code",
   "execution_count": null,
   "metadata": {},
   "outputs": [],
   "source": []
  }
 ],
 "metadata": {
  "kernelspec": {
   "display_name": "Python 2",
   "language": "python",
   "name": "python2"
  },
  "language_info": {
   "codemirror_mode": {
    "name": "ipython",
    "version": 2
   },
   "file_extension": ".py",
   "mimetype": "text/x-python",
   "name": "python",
   "nbconvert_exporter": "python",
   "pygments_lexer": "ipython2",
   "version": "2.7.6"
  }
 },
 "nbformat": 4,
 "nbformat_minor": 0
}
