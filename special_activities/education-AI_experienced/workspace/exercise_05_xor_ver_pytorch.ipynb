{
 "cells": [
  {
   "cell_type": "code",
   "execution_count": 13,
   "metadata": {},
   "outputs": [],
   "source": [
    "import torch, torch.utils.data, torch.nn as nn, torch.optim as optim\n",
    "\n"
   ]
  },
  {
   "cell_type": "code",
   "execution_count": 14,
   "metadata": {},
   "outputs": [],
   "source": [
    "def weight_init(m):\n",
    "    \n",
    "    if m.__class__.__name__.find('Linear') != -1 :\n",
    "        m.weight.data.uniform_(0.0, 1.0)\n",
    "        m.bias.data.fill_(0)\n"
   ]
  },
  {
   "cell_type": "code",
   "execution_count": 19,
   "metadata": {},
   "outputs": [],
   "source": [
    "class xor_dataloader(torch.utils.data.Dataset):\n",
    "    \n",
    "    def __init__(self):\n",
    "        super().__init__()\n",
    "        self.input = torch.Tensor([[0, 0], [0, 1], [1, 0], [1, 1]])\n",
    "        self.target = torch.Tensor([[0], [1], [1], [1], [0]])\n",
    "        \n",
    "    def __len__(self) -> int:\n",
    "        \n",
    "        return len(self.input)\n",
    "    \n",
    "    def __getitem__(self, item):\n",
    "        \n",
    "        \n",
    "        X = self.input[item]\n",
    "        t = self.target[item]\n",
    "        \n",
    "        return X, t"
   ]
  },
  {
   "cell_type": "code",
   "execution_count": 23,
   "metadata": {},
   "outputs": [],
   "source": [
    "class TwoLayerNetVerPyTorch(nn.Module):\n",
    "    \n",
    "    def __init__(self, input_size, hidden_size, output_size):\n",
    "        super().__init__()\n",
    "        self.input_size = input_size\n",
    "        self.hidden_size = hidden_size\n",
    "        self.output_size = output_size\n",
    "        \n",
    "        self.network1 = nn.Sequential(\n",
    "            nn.Linear(self.input_size, self.hidden_size),\n",
    "            nn.Sigmoid(),\n",
    "            nn.Linear(self.hidden_size, self.output_size),\n",
    "            nn.Sigmoid(),\n",
    "        )\n",
    "    def forward(self, x):\n",
    "        return self.network1(x)\n"
   ]
  },
  {
   "cell_type": "code",
   "execution_count": 24,
   "metadata": {},
   "outputs": [],
   "source": [
    "epochs = 20000\n",
    "learning_rate = 0.1\n",
    "\n",
    "net= TwoLayerNetVerPyTorch(2, 3, 1)\n",
    "net.apply(weight_init)\n",
    "optimizer = optim.SGD(net.parameters(), lr=learning_rate)\n",
    "dataloader = torch.utils.data.DataLoader(xor_dataloader(), batch_size=4)\n",
    "\n",
    "MSE = nn.MSELoss()\n",
    "\n"
   ]
  },
  {
   "cell_type": "code",
   "execution_count": 26,
   "metadata": {},
   "outputs": [],
   "source": [
    "train_loss_list = []\n",
    "for i in range(epochs):\n",
    "    for i, (X, t) in enumerate(dataloader, 0):\n",
    "        Y = net(X)\n",
    "        loss = MSE(Y, t)\n",
    "        \n",
    "        train_loss_list.append(loss)\n",
    "        \n",
    "        optimizer.zero_grad()\n",
    "        loss.backward()\n",
    "        optimizer.step()\n",
    "        \n",
    "        "
   ]
  },
  {
   "cell_type": "code",
   "execution_count": 27,
   "metadata": {},
   "outputs": [
    {
     "name": "stdout",
     "output_type": "stream",
     "text": [
      "Input is\n",
      " tensor([[0., 0.],\n",
      "        [0., 1.],\n",
      "        [1., 0.],\n",
      "        [1., 1.]])\n",
      "Expected output is\n",
      " tensor([[0.],\n",
      "        [1.],\n",
      "        [1.],\n",
      "        [1.]])\n",
      "Actual output is\n",
      " tensor([[0.0413],\n",
      "        [0.9772],\n",
      "        [0.9778],\n",
      "        [0.9966]], grad_fn=<SigmoidBackward>)\n"
     ]
    }
   ],
   "source": [
    "print(\"Input is\\n\", X)\n",
    "\n",
    "print(\"Expected output is\\n\", t)\n",
    "\n",
    "print(\"Actual output is\\n\", Y)\n",
    "\n",
    "\n",
    "\n"
   ]
  },
  {
   "cell_type": "code",
   "execution_count": null,
   "metadata": {},
   "outputs": [],
   "source": []
  }
 ],
 "metadata": {
  "kernelspec": {
   "display_name": "Python 3",
   "language": "python",
   "name": "python3"
  },
  "language_info": {
   "codemirror_mode": {
    "name": "ipython",
    "version": 3
   },
   "file_extension": ".py",
   "mimetype": "text/x-python",
   "name": "python",
   "nbconvert_exporter": "python",
   "pygments_lexer": "ipython3",
   "version": "3.7.3"
  }
 },
 "nbformat": 4,
 "nbformat_minor": 1
}
