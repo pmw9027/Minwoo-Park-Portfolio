{
 "cells": [
  {
   "cell_type": "markdown",
   "metadata": {
    "id": "eExHrdNL0GNS",
    "colab_type": "text"
   },
   "source": [
    "## Tensorflow + RNN 을 활용한 영화 리뷰 감성 분석\n"
   ]
  },
  {
   "cell_type": "markdown",
   "metadata": {
    "id": "L2bdeJlB0_BP",
    "colab_type": "text"
   },
   "source": [
    "#### (1) 전처리 된 데이터 로드"
   ]
  },
  {
   "cell_type": "code",
   "execution_count": 1,
   "metadata": {
    "id": "edD7aGI6pZiq",
    "colab_type": "code",
    "outputId": "37830040-0351-49b7-f442-465ceca6693e",
    "executionInfo": {
     "status": "ok",
     "timestamp": 1.573581143749E12,
     "user_tz": -540.0,
     "elapsed": 59012.0,
     "user": {
      "displayName": "GyuWon Cho",
      "photoUrl": "https://lh3.googleusercontent.com/a-/AAuE7mC2i-XV_1q37sR-tiwIOEBODzdJWg6BkfIPMUK0uA=s64",
      "userId": "14874574060895645490"
     }
    },
    "colab": {
     "base_uri": "https://localhost:8080/",
     "height": 120.0
    }
   },
   "outputs": [
    {
     "name": "stdout",
     "output_type": "stream",
     "text": [
      "Go to this URL in a browser: https://accounts.google.com/o/oauth2/auth?client_id=947318989803-6bn6qk8qdgf4n4g3pfee6491hc0brc4i.apps.googleusercontent.com&redirect_uri=urn%3Aietf%3Awg%3Aoauth%3A2.0%3Aoob&scope=email%20https%3A%2F%2Fwww.googleapis.com%2Fauth%2Fdocs.test%20https%3A%2F%2Fwww.googleapis.com%2Fauth%2Fdrive%20https%3A%2F%2Fwww.googleapis.com%2Fauth%2Fdrive.photos.readonly%20https%3A%2F%2Fwww.googleapis.com%2Fauth%2Fpeopleapi.readonly&response_type=code\n",
      "\n",
      "Enter your authorization code:\n",
      "··········\n",
      "Mounted at /content/drive\n"
     ]
    }
   ],
   "source": [
    "from google.colab import drive\n",
    "drive.mount('/content/drive')"
   ]
  },
  {
   "cell_type": "code",
   "execution_count": 0,
   "metadata": {
    "id": "aLdUjCrU-gWG",
    "colab_type": "code",
    "colab": {}
   },
   "outputs": [],
   "source": [
    "import pickle\n",
    "\n",
    "with open(\"/content/drive/My Drive/Colab Notebooks/preprocessed_data.pkl\", \"rb\") as f:\n",
    "  saved_data = pickle.load(f)\n",
    "  \n",
    "word2idx = saved_data[\"word2idx\"]\n",
    "embedding_matrix = saved_data[\"embedding_matrix\"]\n",
    "\n",
    "train_sents = saved_data[\"train_sents\"]\n",
    "test_sents = saved_data[\"test_sents\"]\n",
    "\n",
    "train_labels = saved_data[\"train_labels\"]\n",
    "test_labels = saved_data[\"test_labels\"]"
   ]
  },
  {
   "cell_type": "markdown",
   "metadata": {
    "id": "-l2yyyDsT54c",
    "colab_type": "text"
   },
   "source": [
    "#### (2) 인풋 데이터 형태 만들기"
   ]
  },
  {
   "cell_type": "code",
   "execution_count": 3,
   "metadata": {
    "id": "IilanbzyAhwO",
    "colab_type": "code",
    "outputId": "3b0275a3-5dd0-425a-b19e-371db2cdaaf0",
    "executionInfo": {
     "status": "ok",
     "timestamp": 1.573581148403E12,
     "user_tz": -540.0,
     "elapsed": 63654.0,
     "user": {
      "displayName": "GyuWon Cho",
      "photoUrl": "https://lh3.googleusercontent.com/a-/AAuE7mC2i-XV_1q37sR-tiwIOEBODzdJWg6BkfIPMUK0uA=s64",
      "userId": "14874574060895645490"
     }
    },
    "colab": {
     "base_uri": "https://localhost:8080/",
     "height": 62.0
    }
   },
   "outputs": [
    {
     "data": {
      "text/html": [
       "<p style=\"color: red;\">\n",
       "The default version of TensorFlow in Colab will soon switch to TensorFlow 2.x.<br>\n",
       "We recommend you <a href=\"https://www.tensorflow.org/guide/migrate\" target=\"_blank\">upgrade</a> now \n",
       "or ensure your notebook will continue to use TensorFlow 1.x via the <code>%tensorflow_version 1.x</code> magic:\n",
       "<a href=\"https://colab.research.google.com/notebooks/tensorflow_version.ipynb\" target=\"_blank\">more info</a>.</p>\n"
      ],
      "text/plain": [
       "<IPython.core.display.HTML object>"
      ]
     },
     "metadata": {
      "tags": []
     },
     "output_type": "execute_result"
    }
   ],
   "source": [
    "import tensorflow as tf\n",
    "from tensorflow.keras import layers\n",
    "from tensorflow.keras.initializers import Constant\n",
    "from sklearn.model_selection import train_test_split\n",
    "import numpy as np\n",
    "\n",
    "tf.set_random_seed(1109)"
   ]
  },
  {
   "cell_type": "code",
   "execution_count": 0,
   "metadata": {
    "id": "xQlEfU05Va-d",
    "colab_type": "code",
    "colab": {}
   },
   "outputs": [],
   "source": [
    "# train_data 에서 랜덤하게 10% 를 검증 데이터로 구성\n",
    " train_sents, val_sents, train_labels, val_labels = train_test_split(train_sents, train_labels, test_size=0.1, random_state=1109)"
   ]
  },
  {
   "cell_type": "code",
   "execution_count": 5,
   "metadata": {
    "id": "CF9ED8rDV8_d",
    "colab_type": "code",
    "outputId": "33bd2645-bba9-4b70-876f-eb4dd8daba3d",
    "executionInfo": {
     "status": "ok",
     "timestamp": 1.573581148405E12,
     "user_tz": -540.0,
     "elapsed": 63641.0,
     "user": {
      "displayName": "GyuWon Cho",
      "photoUrl": "https://lh3.googleusercontent.com/a-/AAuE7mC2i-XV_1q37sR-tiwIOEBODzdJWg6BkfIPMUK0uA=s64",
      "userId": "14874574060895645490"
     }
    },
    "colab": {
     "base_uri": "https://localhost:8080/",
     "height": 33.0
    }
   },
   "outputs": [
    {
     "data": {
      "text/plain": [
       "134995"
      ]
     },
     "execution_count": 5,
     "metadata": {
      "tags": []
     },
     "output_type": "execute_result"
    }
   ],
   "source": [
    "len(train_sents)"
   ]
  },
  {
   "cell_type": "code",
   "execution_count": 6,
   "metadata": {
    "id": "fC54cNHfV_Sy",
    "colab_type": "code",
    "outputId": "995d618e-69ee-44a0-87d8-183752966a3e",
    "executionInfo": {
     "status": "ok",
     "timestamp": 1.573581148406E12,
     "user_tz": -540.0,
     "elapsed": 63635.0,
     "user": {
      "displayName": "GyuWon Cho",
      "photoUrl": "https://lh3.googleusercontent.com/a-/AAuE7mC2i-XV_1q37sR-tiwIOEBODzdJWg6BkfIPMUK0uA=s64",
      "userId": "14874574060895645490"
     }
    },
    "colab": {
     "base_uri": "https://localhost:8080/",
     "height": 33.0
    }
   },
   "outputs": [
    {
     "data": {
      "text/plain": [
       "15000"
      ]
     },
     "execution_count": 6,
     "metadata": {
      "tags": []
     },
     "output_type": "execute_result"
    }
   ],
   "source": [
    "len(val_sents)"
   ]
  },
  {
   "cell_type": "code",
   "execution_count": 7,
   "metadata": {
    "id": "93M8Zo75WIki",
    "colab_type": "code",
    "outputId": "71a317c8-d788-4662-ab79-ae935aa0c0fb",
    "executionInfo": {
     "status": "ok",
     "timestamp": 1.573581148406E12,
     "user_tz": -540.0,
     "elapsed": 63627.0,
     "user": {
      "displayName": "GyuWon Cho",
      "photoUrl": "https://lh3.googleusercontent.com/a-/AAuE7mC2i-XV_1q37sR-tiwIOEBODzdJWg6BkfIPMUK0uA=s64",
      "userId": "14874574060895645490"
     }
    },
    "colab": {
     "base_uri": "https://localhost:8080/",
     "height": 33.0
    }
   },
   "outputs": [
    {
     "data": {
      "text/plain": [
       "49997"
      ]
     },
     "execution_count": 7,
     "metadata": {
      "tags": []
     },
     "output_type": "execute_result"
    }
   ],
   "source": [
    "len(test_sents)"
   ]
  },
  {
   "cell_type": "code",
   "execution_count": 0,
   "metadata": {
    "id": "QXGfb1zlT32l",
    "colab_type": "code",
    "colab": {}
   },
   "outputs": [],
   "source": [
    "# train_sents, val_sents 를 word2idx 를 사용해서 각 단어별 index 값을 가지는 numpy array 형태로 구축\n",
    "# 전체 데이터에 대해서 train_data 의 max_length 기준으로 padding 진행\n",
    "\n",
    "max_length = max([len(sent) for sent in train_sents])\n",
    "train_seqs = []\n",
    "val_seqs = []\n",
    "\n",
    "for sent in train_sents:\n",
    "  tmp = np.zeros(max_length, dtype=\"int32\")\n",
    "  for i, word in enumerate(sent):\n",
    "    idx = word2idx.get(word)\n",
    "    if idx != None:\n",
    "      tmp[i] = idx\n",
    "    else:\n",
    "      tmp[i] = word2idx.get(\"<UNK>\") # out of vocab word 처리\n",
    "  train_seqs.append(tmp)\n",
    "\n",
    "for sent in val_sents:\n",
    "  tmp = np.zeros(max_length, dtype=\"int32\")\n",
    "  for i, word in enumerate(sent):\n",
    "    idx = word2idx.get(word)\n",
    "    if idx != None:\n",
    "      tmp[i] = idx\n",
    "    else:\n",
    "      tmp[i] = word2idx.get(\"<UNK>\")\n",
    "  val_seqs.append(tmp)\n",
    "\n",
    "train_inputs = np.stack(train_seqs)\n",
    "val_inputs = np.stack(val_seqs)\n",
    "train_targets = np.array(train_labels, dtype=\"int32\")\n",
    "val_targets = np.array(val_labels, dtype=\"int32\")"
   ]
  },
  {
   "cell_type": "code",
   "execution_count": 9,
   "metadata": {
    "id": "mHzGglo0aKUM",
    "colab_type": "code",
    "outputId": "501c3371-9e1b-404e-ffb6-ac9292eaebed",
    "executionInfo": {
     "status": "ok",
     "timestamp": 1.573581150824E12,
     "user_tz": -540.0,
     "elapsed": 66030.0,
     "user": {
      "displayName": "GyuWon Cho",
      "photoUrl": "https://lh3.googleusercontent.com/a-/AAuE7mC2i-XV_1q37sR-tiwIOEBODzdJWg6BkfIPMUK0uA=s64",
      "userId": "14874574060895645490"
     }
    },
    "colab": {
     "base_uri": "https://localhost:8080/",
     "height": 33.0
    }
   },
   "outputs": [
    {
     "data": {
      "text/plain": [
       "(134995, 116)"
      ]
     },
     "execution_count": 9,
     "metadata": {
      "tags": []
     },
     "output_type": "execute_result"
    }
   ],
   "source": [
    "train_inputs.shape"
   ]
  },
  {
   "cell_type": "code",
   "execution_count": 10,
   "metadata": {
    "id": "l0rJOC_HaM9S",
    "colab_type": "code",
    "outputId": "c30e67ae-dbbe-4e63-d506-85c323438765",
    "executionInfo": {
     "status": "ok",
     "timestamp": 1.573581150826E12,
     "user_tz": -540.0,
     "elapsed": 66018.0,
     "user": {
      "displayName": "GyuWon Cho",
      "photoUrl": "https://lh3.googleusercontent.com/a-/AAuE7mC2i-XV_1q37sR-tiwIOEBODzdJWg6BkfIPMUK0uA=s64",
      "userId": "14874574060895645490"
     }
    },
    "colab": {
     "base_uri": "https://localhost:8080/",
     "height": 33.0
    }
   },
   "outputs": [
    {
     "data": {
      "text/plain": [
       "(15000, 116)"
      ]
     },
     "execution_count": 10,
     "metadata": {
      "tags": []
     },
     "output_type": "execute_result"
    }
   ],
   "source": [
    "val_inputs.shape"
   ]
  },
  {
   "cell_type": "code",
   "execution_count": 11,
   "metadata": {
    "id": "mtAtvlhkagAp",
    "colab_type": "code",
    "outputId": "e8929fe6-1414-43f8-d414-9f5fb29d6078",
    "executionInfo": {
     "status": "ok",
     "timestamp": 1.573581150828E12,
     "user_tz": -540.0,
     "elapsed": 66013.0,
     "user": {
      "displayName": "GyuWon Cho",
      "photoUrl": "https://lh3.googleusercontent.com/a-/AAuE7mC2i-XV_1q37sR-tiwIOEBODzdJWg6BkfIPMUK0uA=s64",
      "userId": "14874574060895645490"
     }
    },
    "colab": {
     "base_uri": "https://localhost:8080/",
     "height": 200.0
    }
   },
   "outputs": [
    {
     "data": {
      "text/plain": [
       "array([ 423,  256, 4860,   17,  312,  989,   37,  157,   47, 1107,   97,\n",
       "         58,   59, 1966,   37,    5,   13,    0,    0,    0,    0,    0,\n",
       "          0,    0,    0,    0,    0,    0,    0,    0,    0,    0,    0,\n",
       "          0,    0,    0,    0,    0,    0,    0,    0,    0,    0,    0,\n",
       "          0,    0,    0,    0,    0,    0,    0,    0,    0,    0,    0,\n",
       "          0,    0,    0,    0,    0,    0,    0,    0,    0,    0,    0,\n",
       "          0,    0,    0,    0,    0,    0,    0,    0,    0,    0,    0,\n",
       "          0,    0,    0,    0,    0,    0,    0,    0,    0,    0,    0,\n",
       "          0,    0,    0,    0,    0,    0,    0,    0,    0,    0,    0,\n",
       "          0,    0,    0,    0,    0,    0,    0,    0,    0,    0,    0,\n",
       "          0,    0,    0,    0,    0,    0], dtype=int32)"
      ]
     },
     "execution_count": 11,
     "metadata": {
      "tags": []
     },
     "output_type": "execute_result"
    }
   ],
   "source": [
    "train_inputs[0]"
   ]
  },
  {
   "cell_type": "code",
   "execution_count": 12,
   "metadata": {
    "id": "r98uC2iUa5zR",
    "colab_type": "code",
    "outputId": "b72714c0-1d5d-4416-f7ed-03ae8507ad1b",
    "executionInfo": {
     "status": "ok",
     "timestamp": 1.573581150829E12,
     "user_tz": -540.0,
     "elapsed": 66008.0,
     "user": {
      "displayName": "GyuWon Cho",
      "photoUrl": "https://lh3.googleusercontent.com/a-/AAuE7mC2i-XV_1q37sR-tiwIOEBODzdJWg6BkfIPMUK0uA=s64",
      "userId": "14874574060895645490"
     }
    },
    "colab": {
     "base_uri": "https://localhost:8080/",
     "height": 33.0
    }
   },
   "outputs": [
    {
     "data": {
      "text/plain": [
       "array([1, 1, 1, ..., 0, 0, 1], dtype=int32)"
      ]
     },
     "execution_count": 12,
     "metadata": {
      "tags": []
     },
     "output_type": "execute_result"
    }
   ],
   "source": [
    "train_targets"
   ]
  },
  {
   "cell_type": "markdown",
   "metadata": {
    "id": "F3GYJB4F2UXf",
    "colab_type": "text"
   },
   "source": [
    "#### (3) 텐서플로우 모델 구축"
   ]
  },
  {
   "cell_type": "markdown",
   "metadata": {
    "id": "6FvDelCT2ml2",
    "colab_type": "text"
   },
   "source": [
    "#### -- (i) 하이퍼파라미터 설정"
   ]
  },
  {
   "cell_type": "code",
   "execution_count": 0,
   "metadata": {
    "id": "VAWTVYOQbIbp",
    "colab_type": "code",
    "colab": {}
   },
   "outputs": [],
   "source": [
    "epochs = 30\n",
    "batch_size = 512\n",
    "learning_rate = 0.01\n",
    "vocab_size = len(word2idx)\n",
    "embedding_size = 100\n",
    "hidden_size = 64\n",
    "max_length = train_inputs.shape[1]"
   ]
  },
  {
   "cell_type": "markdown",
   "metadata": {
    "id": "PZNMpV033RqH",
    "colab_type": "text"
   },
   "source": [
    "#### -- (ii) 모델 정의"
   ]
  },
  {
   "cell_type": "code",
   "execution_count": 14,
   "metadata": {
    "id": "g_0-lsD7P1rG",
    "colab_type": "code",
    "outputId": "8251050b-959b-4058-f1d4-f236e8f0356c",
    "executionInfo": {
     "status": "ok",
     "timestamp": 1.573581151482E12,
     "user_tz": -540.0,
     "elapsed": 66649.0,
     "user": {
      "displayName": "GyuWon Cho",
      "photoUrl": "https://lh3.googleusercontent.com/a-/AAuE7mC2i-XV_1q37sR-tiwIOEBODzdJWg6BkfIPMUK0uA=s64",
      "userId": "14874574060895645490"
     }
    },
    "colab": {
     "base_uri": "https://localhost:8080/",
     "height": 503.0
    }
   },
   "outputs": [
    {
     "name": "stdout",
     "output_type": "stream",
     "text": [
      "WARNING:tensorflow:From /usr/local/lib/python3.6/dist-packages/tensorflow_core/python/ops/resource_variable_ops.py:1630: calling BaseResourceVariable.__init__ (from tensorflow.python.ops.resource_variable_ops) with constraint is deprecated and will be removed in a future version.\n",
      "Instructions for updating:\n",
      "If using Keras pass *_constraint arguments to layers.\n",
      "WARNING:tensorflow:From /usr/local/lib/python3.6/dist-packages/tensorflow_core/python/ops/init_ops.py:97: calling GlorotUniform.__init__ (from tensorflow.python.ops.init_ops) with dtype is deprecated and will be removed in a future version.\n",
      "Instructions for updating:\n",
      "Call initializer instance with the dtype argument instead of passing it to the constructor\n",
      "WARNING:tensorflow:From /usr/local/lib/python3.6/dist-packages/tensorflow_core/python/ops/init_ops.py:97: calling Orthogonal.__init__ (from tensorflow.python.ops.init_ops) with dtype is deprecated and will be removed in a future version.\n",
      "Instructions for updating:\n",
      "Call initializer instance with the dtype argument instead of passing it to the constructor\n",
      "WARNING:tensorflow:From /usr/local/lib/python3.6/dist-packages/tensorflow_core/python/ops/init_ops.py:97: calling Zeros.__init__ (from tensorflow.python.ops.init_ops) with dtype is deprecated and will be removed in a future version.\n",
      "Instructions for updating:\n",
      "Call initializer instance with the dtype argument instead of passing it to the constructor\n",
      "Model: \"sequential\"\n",
      "_________________________________________________________________\n",
      "Layer (type)                 Output Shape              Param #   \n",
      "=================================================================\n",
      "embedding (Embedding)        (None, None, 100)         6125100   \n",
      "_________________________________________________________________\n",
      "bidirectional (Bidirectional (None, None, 128)         84992     \n",
      "_________________________________________________________________\n",
      "bidirectional_1 (Bidirection (None, 128)               99328     \n",
      "_________________________________________________________________\n",
      "dense (Dense)                (None, 1)                 129       \n",
      "=================================================================\n",
      "Total params: 6,309,549\n",
      "Trainable params: 184,449\n",
      "Non-trainable params: 6,125,100\n",
      "_________________________________________________________________\n"
     ]
    }
   ],
   "source": [
    "model = tf.keras.Sequential()\n",
    "model.add(layers.Embedding(input_dim = vocab_size,\n",
    "                           output_dim = embedding_size,\n",
    "                           embeddings_initializer = Constant(embedding_matrix),\n",
    "                           trainable = False))\n",
    "\n",
    "# stacked RNN 사용시, 가장 마지막 layer 를 제외하고는 return sequences 를 입력해주어야 함\n",
    "model.add(layers.Bidirectional(layers.CuDNNLSTM(units=hidden_size, return_sequences=True, input_shape=(max_length, embedding_size))))\n",
    "model.add(layers.Bidirectional(layers.CuDNNLSTM(units=hidden_size)))\n",
    "model.add(layers.Dense(1, activation='sigmoid'))\n",
    "\n",
    "model.summary()"
   ]
  },
  {
   "cell_type": "markdown",
   "metadata": {
    "id": "1-x8h-E0C-9b",
    "colab_type": "text"
   },
   "source": [
    "#### -- (iii) 모델 학습 및 저장"
   ]
  },
  {
   "cell_type": "code",
   "execution_count": 15,
   "metadata": {
    "id": "v2acjaXTc1Qq",
    "colab_type": "code",
    "outputId": "b6751863-36e7-40de-c9fe-6cb6e4655575",
    "executionInfo": {
     "status": "ok",
     "timestamp": 1.573581555301E12,
     "user_tz": -540.0,
     "elapsed": 470461.0,
     "user": {
      "displayName": "GyuWon Cho",
      "photoUrl": "https://lh3.googleusercontent.com/a-/AAuE7mC2i-XV_1q37sR-tiwIOEBODzdJWg6BkfIPMUK0uA=s64",
      "userId": "14874574060895645490"
     }
    },
    "colab": {
     "base_uri": "https://localhost:8080/",
     "height": 1000.0
    }
   },
   "outputs": [
    {
     "name": "stdout",
     "output_type": "stream",
     "text": [
      "WARNING:tensorflow:From /usr/local/lib/python3.6/dist-packages/tensorflow_core/python/ops/nn_impl.py:183: where (from tensorflow.python.ops.array_ops) is deprecated and will be removed in a future version.\n",
      "Instructions for updating:\n",
      "Use tf.where in 2.0, which has the same broadcast rule as np.where\n",
      "Train on 134995 samples, validate on 15000 samples\n",
      "Epoch 1/30\n",
      "134995/134995 [==============================] - 30s 221us/sample - loss: 0.3672 - acc: 0.8344 - val_loss: 0.3312 - val_acc: 0.8548\n",
      "Epoch 2/30\n",
      "134995/134995 [==============================] - 13s 94us/sample - loss: 0.3038 - acc: 0.8682 - val_loss: 0.3129 - val_acc: 0.8600\n",
      "Epoch 3/30\n",
      "134995/134995 [==============================] - 13s 94us/sample - loss: 0.2806 - acc: 0.8788 - val_loss: 0.3087 - val_acc: 0.8662\n",
      "Epoch 4/30\n",
      "134995/134995 [==============================] - 13s 94us/sample - loss: 0.2614 - acc: 0.8872 - val_loss: 0.3052 - val_acc: 0.8685\n",
      "Epoch 5/30\n",
      "134995/134995 [==============================] - 13s 94us/sample - loss: 0.2491 - acc: 0.8940 - val_loss: 0.3078 - val_acc: 0.8671\n",
      "Epoch 6/30\n",
      "134995/134995 [==============================] - 13s 94us/sample - loss: 0.2368 - acc: 0.8996 - val_loss: 0.3039 - val_acc: 0.8676\n",
      "Epoch 7/30\n",
      "134995/134995 [==============================] - 13s 94us/sample - loss: 0.2283 - acc: 0.9039 - val_loss: 0.3139 - val_acc: 0.8667\n",
      "Epoch 8/30\n",
      "134995/134995 [==============================] - 13s 94us/sample - loss: 0.2203 - acc: 0.9077 - val_loss: 0.3129 - val_acc: 0.8684\n",
      "Epoch 9/30\n",
      "134995/134995 [==============================] - 13s 94us/sample - loss: 0.2236 - acc: 0.9056 - val_loss: 0.3208 - val_acc: 0.8643\n",
      "Epoch 10/30\n",
      "134995/134995 [==============================] - 13s 94us/sample - loss: 0.2095 - acc: 0.9119 - val_loss: 0.3272 - val_acc: 0.8649\n",
      "Epoch 11/30\n",
      "134995/134995 [==============================] - 13s 94us/sample - loss: 0.2011 - acc: 0.9155 - val_loss: 0.3297 - val_acc: 0.8657\n",
      "Epoch 12/30\n",
      "134995/134995 [==============================] - 13s 95us/sample - loss: 0.1960 - acc: 0.9179 - val_loss: 0.3424 - val_acc: 0.8629\n",
      "Epoch 13/30\n",
      "134995/134995 [==============================] - 13s 94us/sample - loss: 0.1931 - acc: 0.9189 - val_loss: 0.3426 - val_acc: 0.8648\n",
      "Epoch 14/30\n",
      "134995/134995 [==============================] - 13s 94us/sample - loss: 0.1870 - acc: 0.9226 - val_loss: 0.3512 - val_acc: 0.8631\n",
      "Epoch 15/30\n",
      "134995/134995 [==============================] - 13s 94us/sample - loss: 0.1791 - acc: 0.9257 - val_loss: 0.3546 - val_acc: 0.8619\n",
      "Epoch 16/30\n",
      "134995/134995 [==============================] - 13s 94us/sample - loss: 0.1761 - acc: 0.9265 - val_loss: 0.3577 - val_acc: 0.8607\n",
      "Epoch 17/30\n",
      "134995/134995 [==============================] - 13s 94us/sample - loss: 0.1756 - acc: 0.9270 - val_loss: 0.3606 - val_acc: 0.8593\n",
      "Epoch 18/30\n",
      "134995/134995 [==============================] - 13s 94us/sample - loss: 0.1715 - acc: 0.9288 - val_loss: 0.3646 - val_acc: 0.8579\n",
      "Epoch 19/30\n",
      "134995/134995 [==============================] - 13s 94us/sample - loss: 0.1669 - acc: 0.9315 - val_loss: 0.3757 - val_acc: 0.8575\n",
      "Epoch 20/30\n",
      "134995/134995 [==============================] - 13s 94us/sample - loss: 0.1669 - acc: 0.9305 - val_loss: 0.3826 - val_acc: 0.8595\n",
      "Epoch 21/30\n",
      "134995/134995 [==============================] - 13s 94us/sample - loss: 0.1656 - acc: 0.9311 - val_loss: 0.3886 - val_acc: 0.8583\n",
      "Epoch 22/30\n",
      "134995/134995 [==============================] - 13s 94us/sample - loss: 0.1597 - acc: 0.9340 - val_loss: 0.3951 - val_acc: 0.8561\n",
      "Epoch 23/30\n",
      "134995/134995 [==============================] - 13s 94us/sample - loss: 0.1629 - acc: 0.9324 - val_loss: 0.3923 - val_acc: 0.8593\n",
      "Epoch 24/30\n",
      "134995/134995 [==============================] - 13s 94us/sample - loss: 0.1572 - acc: 0.9344 - val_loss: 0.3936 - val_acc: 0.8585\n",
      "Epoch 25/30\n",
      "134995/134995 [==============================] - 13s 94us/sample - loss: 0.1526 - acc: 0.9376 - val_loss: 0.4086 - val_acc: 0.8552\n",
      "Epoch 26/30\n",
      "134995/134995 [==============================] - 13s 95us/sample - loss: 0.1556 - acc: 0.9364 - val_loss: 0.4063 - val_acc: 0.8577\n",
      "Epoch 27/30\n",
      "134995/134995 [==============================] - 13s 94us/sample - loss: 0.1591 - acc: 0.9346 - val_loss: 0.3946 - val_acc: 0.8550\n",
      "Epoch 28/30\n",
      "134995/134995 [==============================] - 13s 93us/sample - loss: 0.1536 - acc: 0.9363 - val_loss: 0.4117 - val_acc: 0.8521\n",
      "Epoch 29/30\n",
      "134995/134995 [==============================] - 13s 94us/sample - loss: 0.1520 - acc: 0.9368 - val_loss: 0.4155 - val_acc: 0.8563\n",
      "Epoch 30/30\n",
      "134995/134995 [==============================] - 13s 94us/sample - loss: 0.1483 - acc: 0.9391 - val_loss: 0.4098 - val_acc: 0.8581\n"
     ]
    },
    {
     "data": {
      "text/plain": [
       "<tensorflow.python.keras.callbacks.History at 0x7f3abe993fd0>"
      ]
     },
     "execution_count": 15,
     "metadata": {
      "tags": []
     },
     "output_type": "execute_result"
    }
   ],
   "source": [
    "# 앞선 실험결과보다 전반적으로 성능은 높지만 오버피팅이 발생하는 상태\n",
    "adam = tf.keras.optimizers.Adam(learning_rate=learning_rate)\n",
    "model.compile(optimizer=adam,\n",
    "              loss=\"binary_crossentropy\",\n",
    "              metrics=[\"accuracy\"])\n",
    "\n",
    "model.fit(train_inputs, train_targets, epochs=epochs,\n",
    "          batch_size=batch_size, validation_data=(val_inputs, val_targets))"
   ]
  }
 ],
 "metadata": {
  "colab": {
   "name": "(5) SA-w2v-train-CuDNNLSTM-stacked+bidirectional.ipynb",
   "provenance": [
    {
     "file_id": "1RLPK7VyzFnl4GBVnP1xY6NcO4_E9Hpsi",
     "timestamp": 1.573580891201E12
    },
    {
     "file_id": "1edafAptDeoQpGQwUVaisrGombudnV6TR",
     "timestamp": 1.573579759532E12
    },
    {
     "file_id": "1Jdak8bu0hOQhDnIrzFHLzzEfx5DRjR_x",
     "timestamp": 1.573578808473E12
    }
   ],
   "collapsed_sections": [
    "F3GYJB4F2UXf"
   ],
   "toc_visible": true
  },
  "kernelspec": {
   "name": "python3",
   "display_name": "Python 3"
  },
  "accelerator": "GPU"
 },
 "nbformat": 4,
 "nbformat_minor": 0
}
