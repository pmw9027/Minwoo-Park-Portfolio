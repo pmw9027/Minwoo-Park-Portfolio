{
 "cells": [
  {
   "cell_type": "markdown",
   "metadata": {
    "id": "eExHrdNL0GNS",
    "colab_type": "text"
   },
   "source": [
    "## Tensorflow + RNN 을 활용한 영화 리뷰 감성 분석\n"
   ]
  },
  {
   "cell_type": "markdown",
   "metadata": {
    "id": "L2bdeJlB0_BP",
    "colab_type": "text"
   },
   "source": [
    "#### (1) 전처리 된 데이터 로드"
   ]
  },
  {
   "cell_type": "code",
   "execution_count": 1,
   "metadata": {
    "id": "edD7aGI6pZiq",
    "colab_type": "code",
    "outputId": "dff6ea07-47ce-4817-8643-6560be50a4da",
    "executionInfo": {
     "status": "ok",
     "timestamp": 1.573579356053E12,
     "user_tz": -540.0,
     "elapsed": 648.0,
     "user": {
      "displayName": "GyuWon Cho",
      "photoUrl": "https://lh3.googleusercontent.com/a-/AAuE7mC2i-XV_1q37sR-tiwIOEBODzdJWg6BkfIPMUK0uA=s64",
      "userId": "14874574060895645490"
     }
    },
    "colab": {
     "base_uri": "https://localhost:8080/",
     "height": 33.0
    }
   },
   "outputs": [
    {
     "name": "stdout",
     "output_type": "stream",
     "text": [
      "Drive already mounted at /content/drive; to attempt to forcibly remount, call drive.mount(\"/content/drive\", force_remount=True).\n"
     ]
    }
   ],
   "source": [
    "from google.colab import drive\n",
    "drive.mount('/content/drive')"
   ]
  },
  {
   "cell_type": "code",
   "execution_count": 0,
   "metadata": {
    "id": "aLdUjCrU-gWG",
    "colab_type": "code",
    "colab": {}
   },
   "outputs": [],
   "source": [
    "import pickle\n",
    "\n",
    "with open(\"/content/drive/My Drive/Colab Notebooks/preprocessed_data.pkl\", \"rb\") as f:\n",
    "  saved_data = pickle.load(f)\n",
    "  \n",
    "word2idx = saved_data[\"word2idx\"]\n",
    "embedding_matrix = saved_data[\"embedding_matrix\"]\n",
    "\n",
    "train_sents = saved_data[\"train_sents\"]\n",
    "test_sents = saved_data[\"test_sents\"]\n",
    "\n",
    "train_labels = saved_data[\"train_labels\"]\n",
    "test_labels = saved_data[\"test_labels\"]"
   ]
  },
  {
   "cell_type": "markdown",
   "metadata": {
    "id": "-l2yyyDsT54c",
    "colab_type": "text"
   },
   "source": [
    "#### (2) 인풋 데이터 형태 만들기"
   ]
  },
  {
   "cell_type": "code",
   "execution_count": 3,
   "metadata": {
    "id": "IilanbzyAhwO",
    "colab_type": "code",
    "outputId": "fb782ad1-6d62-4667-e6dc-a9a408e34f72",
    "executionInfo": {
     "status": "ok",
     "timestamp": 1.573579358942E12,
     "user_tz": -540.0,
     "elapsed": 3523.0,
     "user": {
      "displayName": "GyuWon Cho",
      "photoUrl": "https://lh3.googleusercontent.com/a-/AAuE7mC2i-XV_1q37sR-tiwIOEBODzdJWg6BkfIPMUK0uA=s64",
      "userId": "14874574060895645490"
     }
    },
    "colab": {
     "base_uri": "https://localhost:8080/",
     "height": 62.0
    }
   },
   "outputs": [
    {
     "data": {
      "text/html": [
       "<p style=\"color: red;\">\n",
       "The default version of TensorFlow in Colab will soon switch to TensorFlow 2.x.<br>\n",
       "We recommend you <a href=\"https://www.tensorflow.org/guide/migrate\" target=\"_blank\">upgrade</a> now \n",
       "or ensure your notebook will continue to use TensorFlow 1.x via the <code>%tensorflow_version 1.x</code> magic:\n",
       "<a href=\"https://colab.research.google.com/notebooks/tensorflow_version.ipynb\" target=\"_blank\">more info</a>.</p>\n"
      ],
      "text/plain": [
       "<IPython.core.display.HTML object>"
      ]
     },
     "metadata": {
      "tags": []
     },
     "output_type": "execute_result"
    }
   ],
   "source": [
    "import tensorflow as tf\n",
    "from tensorflow.keras import layers\n",
    "from tensorflow.keras.initializers import Constant\n",
    "from sklearn.model_selection import train_test_split\n",
    "import numpy as np\n",
    "\n",
    "tf.set_random_seed(1109)"
   ]
  },
  {
   "cell_type": "code",
   "execution_count": 0,
   "metadata": {
    "id": "xQlEfU05Va-d",
    "colab_type": "code",
    "colab": {}
   },
   "outputs": [],
   "source": [
    "# train_data 에서 랜덤하게 10% 를 검증 데이터로 구성\n",
    " train_sents, val_sents, train_labels, val_labels = train_test_split(train_sents, train_labels, test_size=0.1, random_state=1109)"
   ]
  },
  {
   "cell_type": "code",
   "execution_count": 5,
   "metadata": {
    "id": "CF9ED8rDV8_d",
    "colab_type": "code",
    "outputId": "aa673ea3-74fd-416d-b9c1-0c53da85f1be",
    "executionInfo": {
     "status": "ok",
     "timestamp": 1.573579359189E12,
     "user_tz": -540.0,
     "elapsed": 3755.0,
     "user": {
      "displayName": "GyuWon Cho",
      "photoUrl": "https://lh3.googleusercontent.com/a-/AAuE7mC2i-XV_1q37sR-tiwIOEBODzdJWg6BkfIPMUK0uA=s64",
      "userId": "14874574060895645490"
     }
    },
    "colab": {
     "base_uri": "https://localhost:8080/",
     "height": 33.0
    }
   },
   "outputs": [
    {
     "data": {
      "text/plain": [
       "134995"
      ]
     },
     "execution_count": 5,
     "metadata": {
      "tags": []
     },
     "output_type": "execute_result"
    }
   ],
   "source": [
    "len(train_sents)"
   ]
  },
  {
   "cell_type": "code",
   "execution_count": 6,
   "metadata": {
    "id": "fC54cNHfV_Sy",
    "colab_type": "code",
    "outputId": "2bc75462-4ea2-42c8-fb68-b0b55ce83af1",
    "executionInfo": {
     "status": "ok",
     "timestamp": 1.57357935919E12,
     "user_tz": -540.0,
     "elapsed": 3743.0,
     "user": {
      "displayName": "GyuWon Cho",
      "photoUrl": "https://lh3.googleusercontent.com/a-/AAuE7mC2i-XV_1q37sR-tiwIOEBODzdJWg6BkfIPMUK0uA=s64",
      "userId": "14874574060895645490"
     }
    },
    "colab": {
     "base_uri": "https://localhost:8080/",
     "height": 33.0
    }
   },
   "outputs": [
    {
     "data": {
      "text/plain": [
       "15000"
      ]
     },
     "execution_count": 6,
     "metadata": {
      "tags": []
     },
     "output_type": "execute_result"
    }
   ],
   "source": [
    "len(val_sents)"
   ]
  },
  {
   "cell_type": "code",
   "execution_count": 7,
   "metadata": {
    "id": "93M8Zo75WIki",
    "colab_type": "code",
    "outputId": "9b1652ed-6e89-4221-fb82-7f4288d0e7a3",
    "executionInfo": {
     "status": "ok",
     "timestamp": 1.573579359192E12,
     "user_tz": -540.0,
     "elapsed": 3739.0,
     "user": {
      "displayName": "GyuWon Cho",
      "photoUrl": "https://lh3.googleusercontent.com/a-/AAuE7mC2i-XV_1q37sR-tiwIOEBODzdJWg6BkfIPMUK0uA=s64",
      "userId": "14874574060895645490"
     }
    },
    "colab": {
     "base_uri": "https://localhost:8080/",
     "height": 33.0
    }
   },
   "outputs": [
    {
     "data": {
      "text/plain": [
       "49997"
      ]
     },
     "execution_count": 7,
     "metadata": {
      "tags": []
     },
     "output_type": "execute_result"
    }
   ],
   "source": [
    "len(test_sents)"
   ]
  },
  {
   "cell_type": "code",
   "execution_count": 0,
   "metadata": {
    "id": "QXGfb1zlT32l",
    "colab_type": "code",
    "colab": {}
   },
   "outputs": [],
   "source": [
    "# train_sents, val_sents 를 word2idx 를 사용해서 각 단어별 index 값을 가지는 numpy array 형태로 구축\n",
    "# 전체 데이터에 대해서 train_data 의 max_length 기준으로 padding 진행\n",
    "\n",
    "max_length = max([len(sent) for sent in train_sents])\n",
    "train_seqs = []\n",
    "val_seqs = []\n",
    "\n",
    "for sent in train_sents:\n",
    "  tmp = np.zeros(max_length, dtype=\"int32\")\n",
    "  for i, word in enumerate(sent):\n",
    "    idx = word2idx.get(word)\n",
    "    if idx != None:\n",
    "      tmp[i] = idx\n",
    "    else:\n",
    "      tmp[i] = word2idx.get(\"<UNK>\") # out of vocab word 처리\n",
    "  train_seqs.append(tmp)\n",
    "\n",
    "for sent in val_sents:\n",
    "  tmp = np.zeros(max_length, dtype=\"int32\")\n",
    "  for i, word in enumerate(sent):\n",
    "    idx = word2idx.get(word)\n",
    "    if idx != None:\n",
    "      tmp[i] = idx\n",
    "    else:\n",
    "      tmp[i] = word2idx.get(\"<UNK>\")\n",
    "  val_seqs.append(tmp)\n",
    "\n",
    "train_inputs = np.stack(train_seqs)\n",
    "val_inputs = np.stack(val_seqs)\n",
    "train_targets = np.array(train_labels, dtype=\"int32\")\n",
    "val_targets = np.array(val_labels, dtype=\"int32\")"
   ]
  },
  {
   "cell_type": "code",
   "execution_count": 9,
   "metadata": {
    "id": "mHzGglo0aKUM",
    "colab_type": "code",
    "outputId": "dd9c40da-06e0-4bf0-ae65-789b596f0cf5",
    "executionInfo": {
     "status": "ok",
     "timestamp": 1.57357936152E12,
     "user_tz": -540.0,
     "elapsed": 6053.0,
     "user": {
      "displayName": "GyuWon Cho",
      "photoUrl": "https://lh3.googleusercontent.com/a-/AAuE7mC2i-XV_1q37sR-tiwIOEBODzdJWg6BkfIPMUK0uA=s64",
      "userId": "14874574060895645490"
     }
    },
    "colab": {
     "base_uri": "https://localhost:8080/",
     "height": 33.0
    }
   },
   "outputs": [
    {
     "data": {
      "text/plain": [
       "(134995, 116)"
      ]
     },
     "execution_count": 9,
     "metadata": {
      "tags": []
     },
     "output_type": "execute_result"
    }
   ],
   "source": [
    "train_inputs.shape"
   ]
  },
  {
   "cell_type": "code",
   "execution_count": 10,
   "metadata": {
    "id": "l0rJOC_HaM9S",
    "colab_type": "code",
    "outputId": "9c6e6c73-ace5-429b-a00b-ba2d7af9d9f0",
    "executionInfo": {
     "status": "ok",
     "timestamp": 1.573579361521E12,
     "user_tz": -540.0,
     "elapsed": 6043.0,
     "user": {
      "displayName": "GyuWon Cho",
      "photoUrl": "https://lh3.googleusercontent.com/a-/AAuE7mC2i-XV_1q37sR-tiwIOEBODzdJWg6BkfIPMUK0uA=s64",
      "userId": "14874574060895645490"
     }
    },
    "colab": {
     "base_uri": "https://localhost:8080/",
     "height": 33.0
    }
   },
   "outputs": [
    {
     "data": {
      "text/plain": [
       "(15000, 116)"
      ]
     },
     "execution_count": 10,
     "metadata": {
      "tags": []
     },
     "output_type": "execute_result"
    }
   ],
   "source": [
    "val_inputs.shape"
   ]
  },
  {
   "cell_type": "code",
   "execution_count": 11,
   "metadata": {
    "id": "mtAtvlhkagAp",
    "colab_type": "code",
    "outputId": "adce8cb7-4400-45f6-e131-aa52ef9564be",
    "executionInfo": {
     "status": "ok",
     "timestamp": 1.573579361523E12,
     "user_tz": -540.0,
     "elapsed": 6037.0,
     "user": {
      "displayName": "GyuWon Cho",
      "photoUrl": "https://lh3.googleusercontent.com/a-/AAuE7mC2i-XV_1q37sR-tiwIOEBODzdJWg6BkfIPMUK0uA=s64",
      "userId": "14874574060895645490"
     }
    },
    "colab": {
     "base_uri": "https://localhost:8080/",
     "height": 200.0
    }
   },
   "outputs": [
    {
     "data": {
      "text/plain": [
       "array([ 423,  256, 4860,   17,  312,  989,   37,  157,   47, 1107,   97,\n",
       "         58,   59, 1966,   37,    5,   13,    0,    0,    0,    0,    0,\n",
       "          0,    0,    0,    0,    0,    0,    0,    0,    0,    0,    0,\n",
       "          0,    0,    0,    0,    0,    0,    0,    0,    0,    0,    0,\n",
       "          0,    0,    0,    0,    0,    0,    0,    0,    0,    0,    0,\n",
       "          0,    0,    0,    0,    0,    0,    0,    0,    0,    0,    0,\n",
       "          0,    0,    0,    0,    0,    0,    0,    0,    0,    0,    0,\n",
       "          0,    0,    0,    0,    0,    0,    0,    0,    0,    0,    0,\n",
       "          0,    0,    0,    0,    0,    0,    0,    0,    0,    0,    0,\n",
       "          0,    0,    0,    0,    0,    0,    0,    0,    0,    0,    0,\n",
       "          0,    0,    0,    0,    0,    0], dtype=int32)"
      ]
     },
     "execution_count": 11,
     "metadata": {
      "tags": []
     },
     "output_type": "execute_result"
    }
   ],
   "source": [
    "train_inputs[0]"
   ]
  },
  {
   "cell_type": "code",
   "execution_count": 12,
   "metadata": {
    "id": "r98uC2iUa5zR",
    "colab_type": "code",
    "outputId": "3a7fcef3-55b7-441a-e1cb-2751fe7f237a",
    "executionInfo": {
     "status": "ok",
     "timestamp": 1.573579361524E12,
     "user_tz": -540.0,
     "elapsed": 6029.0,
     "user": {
      "displayName": "GyuWon Cho",
      "photoUrl": "https://lh3.googleusercontent.com/a-/AAuE7mC2i-XV_1q37sR-tiwIOEBODzdJWg6BkfIPMUK0uA=s64",
      "userId": "14874574060895645490"
     }
    },
    "colab": {
     "base_uri": "https://localhost:8080/",
     "height": 33.0
    }
   },
   "outputs": [
    {
     "data": {
      "text/plain": [
       "array([1, 1, 1, ..., 0, 0, 1], dtype=int32)"
      ]
     },
     "execution_count": 12,
     "metadata": {
      "tags": []
     },
     "output_type": "execute_result"
    }
   ],
   "source": [
    "train_targets"
   ]
  },
  {
   "cell_type": "markdown",
   "metadata": {
    "id": "F3GYJB4F2UXf",
    "colab_type": "text"
   },
   "source": [
    "#### (3) 텐서플로우 모델 구축"
   ]
  },
  {
   "cell_type": "markdown",
   "metadata": {
    "id": "6FvDelCT2ml2",
    "colab_type": "text"
   },
   "source": [
    "#### -- (i) 하이퍼파라미터 설정"
   ]
  },
  {
   "cell_type": "code",
   "execution_count": 0,
   "metadata": {
    "id": "VAWTVYOQbIbp",
    "colab_type": "code",
    "colab": {}
   },
   "outputs": [],
   "source": [
    "epochs = 30\n",
    "batch_size = 512\n",
    "learning_rate = 0.01\n",
    "vocab_size = len(word2idx)\n",
    "embedding_size = 100\n",
    "hidden_size = 64\n",
    "max_length = train_inputs.shape[1]"
   ]
  },
  {
   "cell_type": "markdown",
   "metadata": {
    "id": "PZNMpV033RqH",
    "colab_type": "text"
   },
   "source": [
    "#### -- (ii) 모델 정의"
   ]
  },
  {
   "cell_type": "code",
   "execution_count": 14,
   "metadata": {
    "id": "g_0-lsD7P1rG",
    "colab_type": "code",
    "outputId": "31d429bd-98a0-4b89-e08f-d5f2aef59777",
    "executionInfo": {
     "status": "ok",
     "timestamp": 1.573579362255E12,
     "user_tz": -540.0,
     "elapsed": 6743.0,
     "user": {
      "displayName": "GyuWon Cho",
      "photoUrl": "https://lh3.googleusercontent.com/a-/AAuE7mC2i-XV_1q37sR-tiwIOEBODzdJWg6BkfIPMUK0uA=s64",
      "userId": "14874574060895645490"
     }
    },
    "colab": {
     "base_uri": "https://localhost:8080/",
     "height": 320.0
    }
   },
   "outputs": [
    {
     "name": "stdout",
     "output_type": "stream",
     "text": [
      "WARNING:tensorflow:From /usr/local/lib/python3.6/dist-packages/tensorflow_core/python/ops/resource_variable_ops.py:1630: calling BaseResourceVariable.__init__ (from tensorflow.python.ops.resource_variable_ops) with constraint is deprecated and will be removed in a future version.\n",
      "Instructions for updating:\n",
      "If using Keras pass *_constraint arguments to layers.\n",
      "Model: \"sequential\"\n",
      "_________________________________________________________________\n",
      "Layer (type)                 Output Shape              Param #   \n",
      "=================================================================\n",
      "embedding (Embedding)        (None, None, 100)         6125100   \n",
      "_________________________________________________________________\n",
      "cu_dnnlstm (CuDNNLSTM)       (None, 64)                42496     \n",
      "_________________________________________________________________\n",
      "dense (Dense)                (None, 1)                 65        \n",
      "=================================================================\n",
      "Total params: 6,167,661\n",
      "Trainable params: 42,561\n",
      "Non-trainable params: 6,125,100\n",
      "_________________________________________________________________\n"
     ]
    }
   ],
   "source": [
    "model = tf.keras.Sequential()\n",
    "model.add(layers.Embedding(input_dim = vocab_size,\n",
    "                           output_dim = embedding_size,\n",
    "                           embeddings_initializer = Constant(embedding_matrix),\n",
    "                           trainable = False))\n",
    "\n",
    "model.add(layers.CuDNNLSTM(units=hidden_size, input_shape=(max_length, embedding_size)))\n",
    "model.add(layers.Dense(1, activation='sigmoid'))\n",
    "\n",
    "model.summary()"
   ]
  },
  {
   "cell_type": "markdown",
   "metadata": {
    "id": "1-x8h-E0C-9b",
    "colab_type": "text"
   },
   "source": [
    "#### -- (iii) 모델 학습 및 저장"
   ]
  },
  {
   "cell_type": "code",
   "execution_count": 15,
   "metadata": {
    "id": "v2acjaXTc1Qq",
    "colab_type": "code",
    "outputId": "c6828103-dcf5-4bcd-e053-86c2a5190e18",
    "executionInfo": {
     "status": "ok",
     "timestamp": 1.573579458353E12,
     "user_tz": -540.0,
     "elapsed": 102836.0,
     "user": {
      "displayName": "GyuWon Cho",
      "photoUrl": "https://lh3.googleusercontent.com/a-/AAuE7mC2i-XV_1q37sR-tiwIOEBODzdJWg6BkfIPMUK0uA=s64",
      "userId": "14874574060895645490"
     }
    },
    "colab": {
     "base_uri": "https://localhost:8080/",
     "height": 1000.0
    }
   },
   "outputs": [
    {
     "name": "stdout",
     "output_type": "stream",
     "text": [
      "WARNING:tensorflow:From /usr/local/lib/python3.6/dist-packages/tensorflow_core/python/ops/nn_impl.py:183: where (from tensorflow.python.ops.array_ops) is deprecated and will be removed in a future version.\n",
      "Instructions for updating:\n",
      "Use tf.where in 2.0, which has the same broadcast rule as np.where\n",
      "Train on 134995 samples, validate on 15000 samples\n",
      "Epoch 1/30\n",
      "134995/134995 [==============================] - 10s 74us/sample - loss: 0.6933 - acc: 0.5013 - val_loss: 0.6933 - val_acc: 0.4969\n",
      "Epoch 2/30\n",
      "134995/134995 [==============================] - 3s 22us/sample - loss: 0.6932 - acc: 0.5013 - val_loss: 0.6933 - val_acc: 0.4969\n",
      "Epoch 3/30\n",
      "134995/134995 [==============================] - 3s 22us/sample - loss: 0.6932 - acc: 0.5009 - val_loss: 0.6931 - val_acc: 0.5031\n",
      "Epoch 4/30\n",
      "134995/134995 [==============================] - 3s 22us/sample - loss: 0.6933 - acc: 0.5008 - val_loss: 0.6932 - val_acc: 0.4969\n",
      "Epoch 5/30\n",
      "134995/134995 [==============================] - 3s 22us/sample - loss: 0.6932 - acc: 0.5011 - val_loss: 0.6935 - val_acc: 0.4969\n",
      "Epoch 6/30\n",
      "134995/134995 [==============================] - 3s 22us/sample - loss: 0.6932 - acc: 0.5010 - val_loss: 0.6933 - val_acc: 0.5031\n",
      "Epoch 7/30\n",
      "134995/134995 [==============================] - 3s 22us/sample - loss: 0.6932 - acc: 0.5003 - val_loss: 0.6932 - val_acc: 0.4969\n",
      "Epoch 8/30\n",
      "134995/134995 [==============================] - 3s 22us/sample - loss: 0.6932 - acc: 0.4999 - val_loss: 0.6932 - val_acc: 0.4969\n",
      "Epoch 9/30\n",
      "134995/134995 [==============================] - 3s 22us/sample - loss: 0.6932 - acc: 0.5004 - val_loss: 0.6932 - val_acc: 0.4969\n",
      "Epoch 10/30\n",
      "134995/134995 [==============================] - 3s 22us/sample - loss: 0.6932 - acc: 0.4982 - val_loss: 0.6933 - val_acc: 0.4969\n",
      "Epoch 11/30\n",
      "134995/134995 [==============================] - 3s 22us/sample - loss: 0.6932 - acc: 0.5007 - val_loss: 0.6933 - val_acc: 0.4969\n",
      "Epoch 12/30\n",
      "134995/134995 [==============================] - 3s 21us/sample - loss: 0.6932 - acc: 0.4973 - val_loss: 0.6931 - val_acc: 0.5031\n",
      "Epoch 13/30\n",
      "134995/134995 [==============================] - 3s 22us/sample - loss: 0.6932 - acc: 0.5001 - val_loss: 0.6932 - val_acc: 0.4969\n",
      "Epoch 14/30\n",
      "134995/134995 [==============================] - 3s 22us/sample - loss: 0.6932 - acc: 0.5005 - val_loss: 0.6931 - val_acc: 0.5031\n",
      "Epoch 15/30\n",
      "134995/134995 [==============================] - 3s 22us/sample - loss: 0.6641 - acc: 0.5402 - val_loss: 0.4695 - val_acc: 0.7824\n",
      "Epoch 16/30\n",
      "134995/134995 [==============================] - 3s 21us/sample - loss: 0.4225 - acc: 0.8128 - val_loss: 0.4150 - val_acc: 0.8157\n",
      "Epoch 17/30\n",
      "134995/134995 [==============================] - 3s 22us/sample - loss: 0.3877 - acc: 0.8288 - val_loss: 0.3987 - val_acc: 0.8231\n",
      "Epoch 18/30\n",
      "134995/134995 [==============================] - 3s 22us/sample - loss: 0.3715 - acc: 0.8369 - val_loss: 0.3790 - val_acc: 0.8303\n",
      "Epoch 19/30\n",
      "134995/134995 [==============================] - 3s 22us/sample - loss: 0.3586 - acc: 0.8423 - val_loss: 0.3747 - val_acc: 0.8310\n",
      "Epoch 20/30\n",
      "134995/134995 [==============================] - 3s 22us/sample - loss: 0.3513 - acc: 0.8457 - val_loss: 0.3751 - val_acc: 0.8310\n",
      "Epoch 21/30\n",
      "134995/134995 [==============================] - 3s 22us/sample - loss: 0.3445 - acc: 0.8502 - val_loss: 0.3662 - val_acc: 0.8361\n",
      "Epoch 22/30\n",
      "134995/134995 [==============================] - 3s 22us/sample - loss: 0.3376 - acc: 0.8529 - val_loss: 0.3654 - val_acc: 0.8414\n",
      "Epoch 23/30\n",
      "134995/134995 [==============================] - 3s 21us/sample - loss: 0.3326 - acc: 0.8557 - val_loss: 0.3628 - val_acc: 0.8379\n",
      "Epoch 24/30\n",
      "134995/134995 [==============================] - 3s 22us/sample - loss: 0.3274 - acc: 0.8576 - val_loss: 0.3662 - val_acc: 0.8373\n",
      "Epoch 25/30\n",
      "134995/134995 [==============================] - 3s 21us/sample - loss: 0.3240 - acc: 0.8600 - val_loss: 0.3637 - val_acc: 0.8369\n",
      "Epoch 26/30\n",
      "134995/134995 [==============================] - 3s 22us/sample - loss: 0.3206 - acc: 0.8613 - val_loss: 0.3576 - val_acc: 0.8435\n",
      "Epoch 27/30\n",
      "134995/134995 [==============================] - 3s 22us/sample - loss: 0.3179 - acc: 0.8628 - val_loss: 0.3619 - val_acc: 0.8394\n",
      "Epoch 28/30\n",
      "134995/134995 [==============================] - 3s 22us/sample - loss: 0.3151 - acc: 0.8636 - val_loss: 0.3563 - val_acc: 0.8447\n",
      "Epoch 29/30\n",
      "134995/134995 [==============================] - 3s 22us/sample - loss: 0.3119 - acc: 0.8664 - val_loss: 0.3596 - val_acc: 0.8427\n",
      "Epoch 30/30\n",
      "134995/134995 [==============================] - 3s 22us/sample - loss: 0.3078 - acc: 0.8683 - val_loss: 0.3573 - val_acc: 0.8451\n"
     ]
    },
    {
     "data": {
      "text/plain": [
       "<tensorflow.python.keras.callbacks.History at 0x7f5d5dd34198>"
      ]
     },
     "execution_count": 15,
     "metadata": {
      "tags": []
     },
     "output_type": "execute_result"
    }
   ],
   "source": [
    "adam = tf.keras.optimizers.Adam(learning_rate=learning_rate)\n",
    "model.compile(optimizer=adam,\n",
    "              loss=\"binary_crossentropy\",\n",
    "              metrics=[\"accuracy\"])\n",
    "\n",
    "model.fit(train_inputs, train_targets, epochs=epochs,\n",
    "          batch_size=batch_size, validation_data=(val_inputs, val_targets))"
   ]
  }
 ],
 "metadata": {
  "colab": {
   "name": "(3) SA-w2v-train-CuDNNLSTM.ipynb",
   "provenance": [
    {
     "file_id": "1Jdak8bu0hOQhDnIrzFHLzzEfx5DRjR_x",
     "timestamp": 1.573578808473E12
    }
   ],
   "collapsed_sections": [
    "F3GYJB4F2UXf"
   ],
   "toc_visible": true
  },
  "kernelspec": {
   "name": "python3",
   "display_name": "Python 3"
  },
  "accelerator": "GPU"
 },
 "nbformat": 4,
 "nbformat_minor": 0
}
