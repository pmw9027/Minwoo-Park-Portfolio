{
 "cells": [
  {
   "cell_type": "code",
   "execution_count": null,
   "metadata": {
    "collapsed": true
   },
   "outputs": [],
   "source": [
    "timeseries_df = df_apt[df_apt[\"roon_id\"] == 3513]\n",
    "timeseries_df[\"transaction_year_month\"] = timeseries_df[\"transaction_year_month\"]\n",
    "\n",
    "\n",
    "\n",
    "\n",
    "timeseries_df[\"transaction_day\"] = timeseries_df[\"transaction_day\"].astype(str)\n",
    "#\n",
    "\n",
    "timeseries_df[\"trade_date\"] = pd.to_datetime(timeseries_df[\"trade_date\"]) \n",
    "\n",
    "timeseries_df = timeseries_df[[\"trade_date\", \"trade_price\"]]\n",
    "\n",
    "timeseries_df.set_index(keys=\"trade_date\", inplace=True)\n",
    "\n",
    "timeseries_df = timeseries_df.resample(\"MS\").mean()\n",
    "\n",
    "timeseries_df.reset_index(drop=False, inplace=True)\n",
    "\n",
    "timeseries_df.rename(column={\"trade_date\":\"ds\",\"trade_price\": 'y'}, inplace=True)\n",
    "\n",
    "timeseries_df.head(1)\n",
    "\n",
    "timeseries_df[\"ds\"].min(), timeseries_df[\"ds\"].max()\n",
    "\n",
    "timeseries_input = timeseries_df[timeseries_df[\"ds\"] < \"2019-01-01\"]\n",
    "\n",
    "m = Prophet()\n",
    "\n",
    "m.fit(timeseries_input)\n",
    "\n",
    "future = m.make_future_dataframe(periods=5, freq=\"MS\")\n",
    "future.tail()\n",
    "\n"
   ]
  }
 ],
 "metadata": {
  "kernelspec": {
   "display_name": "Python 2",
   "language": "python",
   "name": "python2"
  },
  "language_info": {
   "codemirror_mode": {
    "name": "ipython",
    "version": 2
   },
   "file_extension": ".py",
   "mimetype": "text/x-python",
   "name": "python",
   "nbconvert_exporter": "python",
   "pygments_lexer": "ipython2",
   "version": "2.7.6"
  }
 },
 "nbformat": 4,
 "nbformat_minor": 0
}
